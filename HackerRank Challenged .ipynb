{
 "cells": [
  {
   "cell_type": "markdown",
   "metadata": {},
   "source": [
    "### Differnce Between diagonals"
   ]
  },
  {
   "cell_type": "code",
   "execution_count": 18,
   "metadata": {
    "collapsed": true
   },
   "outputs": [],
   "source": [
    "n=3\n",
    "a=[[10,10,2],[2,10,4],[4,4,4]]"
   ]
  },
  {
   "cell_type": "code",
   "execution_count": 19,
   "metadata": {
    "collapsed": false
   },
   "outputs": [
    {
     "data": {
      "text/plain": [
       "8"
      ]
     },
     "execution_count": 19,
     "metadata": {},
     "output_type": "execute_result"
    }
   ],
   "source": [
    "leadsum=0\n",
    "secondsum=0\n",
    "num=n-1\n",
    "for x in range(n):\n",
    "    leadsum+=a[x][x]\n",
    "    secondsum+=a[x][num]\n",
    "    num+=-1\n",
    "abs(leadsum-secondsum)"
   ]
  },
  {
   "cell_type": "code",
   "execution_count": 22,
   "metadata": {
    "collapsed": false
   },
   "outputs": [
    {
     "name": "stdout",
     "output_type": "stream",
     "text": [
      "3\n",
      "2 4 6\n",
      "8 10 12\n",
      "12 14 16\n",
      "0\n"
     ]
    }
   ],
   "source": [
    "#Algorithms \n",
    "\n",
    "#!/bin/python3\n",
    "\n",
    "import sys\n",
    "\n",
    "\n",
    "n = int(input().strip())\n",
    "a = []\n",
    "for a_i in range(n):\n",
    "    a_t = [int(a_temp) for a_temp in input().strip().split(' ')]\n",
    "    a.append(a_t)\n",
    "\n",
    "leadsum=0\n",
    "secondsum=0\n",
    "num=n-1\n",
    "for x in range(n):\n",
    "    leadsum+=a[x][x]\n",
    "    secondsum+=a[x][num]\n",
    "    num+=-1\n",
    "print(abs(leadsum-secondsum))"
   ]
  },
  {
   "cell_type": "code",
   "execution_count": null,
   "metadata": {
    "collapsed": true
   },
   "outputs": [],
   "source": []
  }
 ],
 "metadata": {
  "kernelspec": {
   "display_name": "Python 3",
   "language": "python",
   "name": "python3"
  },
  "language_info": {
   "codemirror_mode": {
    "name": "ipython",
    "version": 3
   },
   "file_extension": ".py",
   "mimetype": "text/x-python",
   "name": "python",
   "nbconvert_exporter": "python",
   "pygments_lexer": "ipython3",
   "version": "3.5.2"
  }
 },
 "nbformat": 4,
 "nbformat_minor": 2
}
